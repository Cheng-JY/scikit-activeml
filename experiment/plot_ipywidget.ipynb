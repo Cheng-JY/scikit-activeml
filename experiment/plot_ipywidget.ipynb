{
 "cells": [
  {
   "cell_type": "code",
   "execution_count": 8,
   "id": "initial_id",
   "metadata": {
    "collapsed": true,
    "ExecuteTime": {
     "end_time": "2024-07-26T11:38:35.554432Z",
     "start_time": "2024-07-26T11:38:35.552318Z"
    }
   },
   "outputs": [],
   "source": [
    "import matplotlib.pyplot as plt\n",
    "import matplotlib as mlp\n",
    "import numpy as np\n",
    "import pandas as pd\n",
    "import ipywidgets as widgets\n",
    "from IPython.core.display_functions import display\n",
    "mlp.rcParams[\"figure.facecolor\"] = \"white\""
   ]
  },
  {
   "cell_type": "code",
   "execution_count": 11,
   "outputs": [],
   "source": [
    "def plot_graph(\n",
    "        is_random,\n",
    "        is_uncertainty,\n",
    "        is_core_set,\n",
    "        is_n_anno_1,\n",
    "        is_n_anno_2,\n",
    "        metric,\n",
    "):\n",
    "    output_path = '/Users/chengjiaying/PycharmProjects/scikit-activeml/experiment/output_image/'\n",
    "\n",
    "    instance_query_strategies = []\n",
    "    n_annotator_per_instance_list = []\n",
    "    if is_random:\n",
    "        instance_query_strategies.append('random')\n",
    "    if is_uncertainty:\n",
    "        instance_query_strategies.append('uncertainty')\n",
    "    if is_core_set:\n",
    "        instance_query_strategies.append('coreset')\n",
    "\n",
    "    if is_n_anno_1:\n",
    "        n_annotator_per_instance_list.append('1')\n",
    "    if is_n_anno_2:\n",
    "        n_annotator_per_instance_list.append('2')\n",
    "\n",
    "    annotator_query_strategies = ['random', 'round-robin', 'trace-reg', 'geo-reg-f', 'geo-reg-w']\n",
    "    learning_strategies = ['majority-vote', 'trace-reg', 'geo-reg-f', 'geo-reg-w']\n",
    "    batch_size = 256\n",
    "\n",
    "    for instance_query_strategy in instance_query_strategies:\n",
    "        for annotator_query_strategy in annotator_query_strategies:\n",
    "            for learning_strategy in learning_strategies:\n",
    "                for n_annotator_per_instance in n_annotator_per_instance_list:\n",
    "                    if (annotator_query_strategy in ['trace-reg', 'geo-reg-f', 'geo-reg-w'] and\n",
    "                            learning_strategy != annotator_query_strategy):\n",
    "                        continue\n",
    "                    label = (f'{instance_query_strategy} '\n",
    "                             f'+ {annotator_query_strategy} '\n",
    "                             f'+ {learning_strategy}'\n",
    "                             f'+ {n_annotator_per_instance}')\n",
    "                    df = pd.read_csv(f'{output_path}/result/{label}.csv')\n",
    "                    metric_mean = df[f'{metric}_mean'].to_numpy()\n",
    "                    metric_std = df[f'{metric}_std'].to_numpy()\n",
    "                    plt.errorbar(np.arange(batch_size, (len(metric_mean) + 1) * batch_size, batch_size), metric_mean,\n",
    "                                 metric_std,\n",
    "                                 label=f\"({np.mean(metric_mean):.4f}) {label}\", alpha=0.3)\n",
    "\n",
    "    plt.legend(bbox_to_anchor=(1.05, 1), fontsize=6, loc='upper right', ncol=2)\n",
    "    plt.tight_layout()\n",
    "    plt.xlabel('# Labels queried')\n",
    "    plt.ylabel(f\"{metric}\")\n",
    "    plt.show()"
   ],
   "metadata": {
    "collapsed": false,
    "ExecuteTime": {
     "end_time": "2024-07-26T11:39:17.205096Z",
     "start_time": "2024-07-26T11:39:17.199784Z"
    }
   },
   "id": "7d27b9b02103edb5"
  },
  {
   "cell_type": "code",
   "execution_count": 12,
   "outputs": [],
   "source": [
    "metrics = ['misclassification', 'error_annotation_rate']\n",
    "for i in range(10):\n",
    "    metrics.append(f\"Number_of_annotations_{i}\")\n",
    "    metrics.append(f\"Number_of_correct_annotation_{i}\")"
   ],
   "metadata": {
    "collapsed": false,
    "ExecuteTime": {
     "end_time": "2024-07-26T11:39:17.796220Z",
     "start_time": "2024-07-26T11:39:17.792335Z"
    }
   },
   "id": "ce507b73a5ebb8c7"
  },
  {
   "cell_type": "code",
   "execution_count": 13,
   "outputs": [
    {
     "data": {
      "text/plain": "interactive(children=(Checkbox(value=True, description='is_random'), Checkbox(value=False, description='is_unc…",
      "application/vnd.jupyter.widget-view+json": {
       "version_major": 2,
       "version_minor": 0,
       "model_id": "6ca7c7095fee4ae2b2c7a32e089483ac"
      }
     },
     "metadata": {},
     "output_type": "display_data"
    },
    {
     "data": {
      "text/plain": "<function __main__.plot_graph(is_random, is_uncertainty, is_core_set, is_n_anno_1, is_n_anno_2, metric)>"
     },
     "execution_count": 13,
     "metadata": {},
     "output_type": "execute_result"
    }
   ],
   "source": [
    "widgets.interact(\n",
    "    plot_graph,\n",
    "    is_random=True,\n",
    "    is_uncertainty=False,\n",
    "    is_core_set=False,\n",
    "    is_n_anno_1=True,\n",
    "    is_n_anno_2=False,\n",
    "    metric=metrics,\n",
    "    )"
   ],
   "metadata": {
    "collapsed": false,
    "ExecuteTime": {
     "end_time": "2024-07-26T11:39:18.304578Z",
     "start_time": "2024-07-26T11:39:18.182689Z"
    }
   },
   "id": "c18f47f0fc71d29d"
  },
  {
   "cell_type": "code",
   "execution_count": null,
   "outputs": [],
   "source": [],
   "metadata": {
    "collapsed": false
   },
   "id": "e28bcf043888eacf"
  }
 ],
 "metadata": {
  "kernelspec": {
   "display_name": "Python 3",
   "language": "python",
   "name": "python3"
  },
  "language_info": {
   "codemirror_mode": {
    "name": "ipython",
    "version": 2
   },
   "file_extension": ".py",
   "mimetype": "text/x-python",
   "name": "python",
   "nbconvert_exporter": "python",
   "pygments_lexer": "ipython2",
   "version": "2.7.6"
  }
 },
 "nbformat": 4,
 "nbformat_minor": 5
}
