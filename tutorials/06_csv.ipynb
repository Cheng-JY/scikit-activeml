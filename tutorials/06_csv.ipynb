{
 "cells": [
  {
   "cell_type": "code",
   "execution_count": 2,
   "id": "initial_id",
   "metadata": {
    "collapsed": true,
    "ExecuteTime": {
     "end_time": "2024-01-27T18:45:21.969090Z",
     "start_time": "2024-01-27T18:45:21.385011Z"
    }
   },
   "outputs": [],
   "source": [
    "import pandas as pd\n",
    "import matplotlib as mlp\n",
    "import matplotlib.pyplot as plt\n",
    "import warnings\n",
    "import numpy as np\n",
    "\n",
    "import argparse\n",
    "\n",
    "mlp.rcParams[\"figure.facecolor\"] = \"white\"\n",
    "warnings.filterwarnings(\"ignore\")"
   ]
  },
  {
   "cell_type": "code",
   "execution_count": 6,
   "outputs": [
    {
     "name": "stdout",
     "output_type": "stream",
     "text": [
      "<class 'numpy.ndarray'>\n"
     ]
    }
   ],
   "source": [
    "dataset_name = 'flowers102'\n",
    "input_path = f'/Users/chengjiaying/scikit-activeml/tutorials/csv/{dataset_name}_csv.csv'\n",
    "dataframe = pd.read_csv(input_path, index_col=0)\n",
    "\n",
    "qs_names = dataframe['qs'].unique()\n",
    "print(qs_names.__class__)"
   ],
   "metadata": {
    "collapsed": false,
    "ExecuteTime": {
     "end_time": "2024-01-27T18:47:56.259001Z",
     "start_time": "2024-01-27T18:47:56.252748Z"
    }
   },
   "id": "eb1f42de86b259e4"
  },
  {
   "cell_type": "code",
   "execution_count": 8,
   "outputs": [
    {
     "name": "stdout",
     "output_type": "stream",
     "text": [
      "                                            t_mean     t_std\n",
      "qs             batch_size n_cycles step                     \n",
      "RandomSampling 16         30       0      0.002477       NaN\n",
      "                                   1      0.000978       NaN\n",
      "                                   2      0.001086       NaN\n",
      "                                   3      0.000924       NaN\n",
      "                                   4      0.000924       NaN\n",
      "                                   5      0.000972       NaN\n",
      "                                   6      0.002022       NaN\n",
      "                                   7      0.000942       NaN\n",
      "                                   8      0.000929       NaN\n",
      "                                   9      0.000921       NaN\n",
      "                                   10     0.000926       NaN\n",
      "                                   11     0.000952       NaN\n",
      "                                   12     0.000916       NaN\n",
      "                                   13     0.000901       NaN\n",
      "                                   14     0.000923       NaN\n",
      "                                   15     0.000962       NaN\n",
      "                                   16     0.000914       NaN\n",
      "                                   17     0.000895       NaN\n",
      "                                   18     0.000968       NaN\n",
      "                                   19     0.000992       NaN\n",
      "                                   20     0.000871       NaN\n",
      "                                   21     0.000921       NaN\n",
      "                                   22     0.000871       NaN\n",
      "                                   23     0.002226       NaN\n",
      "                                   24     0.000860       NaN\n",
      "                                   25     0.000836       NaN\n",
      "                                   26     0.001924       NaN\n",
      "                                   27     0.000854       NaN\n",
      "                                   28     0.000819       NaN\n",
      "                                   29     0.000828       NaN\n",
      "TypiClust      16         30       0      0.892512  0.020754\n",
      "                                   1      1.063710  0.015272\n",
      "                                   2      1.436091  0.070666\n",
      "                                   3      1.748643  0.110918\n",
      "                                   4      2.457785  0.626711\n",
      "                                   5      2.566710  0.437272\n",
      "                                   6      2.702058  0.252682\n",
      "                                   7      3.389352  0.999081\n",
      "                                   8      3.464543  0.523540\n",
      "                                   9      4.031995  0.931736\n",
      "                                   10     5.053860  1.407430\n",
      "                                   11     4.515394  0.880305\n",
      "                                   12     5.492066  1.378834\n",
      "                                   13     5.048807  0.842310\n",
      "                                   14     4.823283  0.231312\n",
      "                                   15     5.051250  0.123237\n",
      "                                   16     5.667204  0.436263\n",
      "                                   17     5.719120  0.381176\n",
      "                                   18     6.494101  0.731135\n",
      "                                   19     6.282294  0.309104\n",
      "                                   20     6.757403  0.800517\n",
      "                                   21     6.528113  0.138298\n",
      "                                   22     6.913718  0.295811\n",
      "                                   23     7.977958  1.329648\n",
      "                                   24     8.216769  1.298411\n",
      "                                   25     8.299158  0.779621\n",
      "                                   26     9.416999  1.265209\n",
      "                                   27    13.916874  6.227384\n",
      "                                   28    12.667144  3.587312\n",
      "                                   29    11.267284  2.036029\n"
     ]
    }
   ],
   "source": [
    "result_score = dataframe.groupby(['qs', 'batch_size', 'n_cycles', 'step'])['score'].agg(['mean', 'std']).set_axis(['s_mean', 's_std'], axis=1)\n",
    "result_time = dataframe.groupby(['qs', 'batch_size', 'n_cycles', 'step'])['time'].agg(['mean', 'std']).set_axis(['t_mean', 't_std'], axis=1)\n",
    "typiclust = result_time.loc['TypiClust']\n",
    "print(result_time)"
   ],
   "metadata": {
    "collapsed": false,
    "ExecuteTime": {
     "end_time": "2024-01-27T19:03:23.229488Z",
     "start_time": "2024-01-27T19:03:23.206468Z"
    }
   },
   "id": "8059cb49c6b03c40"
  },
  {
   "cell_type": "code",
   "execution_count": null,
   "outputs": [],
   "source": [],
   "metadata": {
    "collapsed": false
   },
   "id": "ffd5af6c309a5dd3"
  }
 ],
 "metadata": {
  "kernelspec": {
   "display_name": "Python 3",
   "language": "python",
   "name": "python3"
  },
  "language_info": {
   "codemirror_mode": {
    "name": "ipython",
    "version": 2
   },
   "file_extension": ".py",
   "mimetype": "text/x-python",
   "name": "python",
   "nbconvert_exporter": "python",
   "pygments_lexer": "ipython2",
   "version": "2.7.6"
  }
 },
 "nbformat": 4,
 "nbformat_minor": 5
}
