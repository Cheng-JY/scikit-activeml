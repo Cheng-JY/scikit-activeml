{
 "cells": [
  {
   "cell_type": "markdown",
   "source": [
    "# Multi-annotator Pool-based Deep Active Learning"
   ],
   "metadata": {
    "collapsed": false
   },
   "id": "85d48744cd712040"
  },
  {
   "cell_type": "markdown",
   "source": [
    "This notebook gives an introduction for dealing with multiple annotators using `skactiveml`."
   ],
   "metadata": {
    "collapsed": false
   },
   "id": "81a1c74becf101a4"
  },
  {
   "cell_type": "code",
   "execution_count": 1,
   "id": "initial_id",
   "metadata": {
    "collapsed": true,
    "ExecuteTime": {
     "end_time": "2024-06-02T13:53:31.720649Z",
     "start_time": "2024-06-02T13:53:30.634701Z"
    }
   },
   "outputs": [],
   "source": [
    "import matplotlib as mlp\n",
    "import matplotlib.pyplot as plt\n",
    "import numpy as np\n",
    "import warnings\n",
    "\n",
    "from copy import deepcopy\n",
    "\n",
    "from torch.utils.data import RandomSampler\n",
    "\n",
    "from skactiveml.classifier import SkorchClassifier\n",
    "from skactiveml.classifier.multiannotator import CrowdLayerClassifier\n",
    "from skactiveml.pool import RandomSampling\n",
    "from skactiveml.pool.multiannotator import SingleAnnotatorWrapper\n",
    "from skactiveml.utils import majority_vote\n",
    "from skorch.callbacks import LRScheduler\n",
    "\n",
    "import torch\n",
    "from torch import nn\n",
    "import torch.nn.functional as F\n",
    "from tqdm import tqdm\n",
    "\n",
    "mlp.rcParams[\"figure.facecolor\"] = \"white\"\n",
    "\n",
    "MISSING_LABEL = -1\n",
    "RANDOM_STATE = 0\n",
    "FONTSIZE = 12\n",
    "\n",
    "np.random.seed(RANDOM_STATE)\n",
    "torch.manual_seed(RANDOM_STATE)\n",
    "torch.cuda.manual_seed(RANDOM_STATE)\n",
    "device = 'cuda' if torch.cuda.is_available() else 'cpu'\n",
    "\n",
    "warnings.filterwarnings(\"ignore\")"
   ]
  },
  {
   "cell_type": "markdown",
   "source": [
    "# Loading Label-me Data Set"
   ],
   "metadata": {
    "collapsed": false
   },
   "id": "ac9a17a5756c3acc"
  },
  {
   "cell_type": "code",
   "execution_count": 2,
   "outputs": [],
   "source": [
    "def load_data_set_label_me(data_dir):\n",
    "    ds = {}\n",
    "    \n",
    "    X_train = np.load(f'{data_dir}/label-me-X.npy')\n",
    "    y_train = np.load(f'{data_dir}/label-me-y.npy')\n",
    "    y_train_true = np.load(f'{data_dir}/label-me-y-true.npy')\n",
    "    X_valid = np.load(f'{data_dir}/label-me-X-valid.npy')\n",
    "    y_valid_true = np.load(f'{data_dir}/label-me-y-true-valid.npy')\n",
    "    X_test = np.load(f'{data_dir}/label-me-X-test.npy')\n",
    "    y_test_true = np.load(f'{data_dir}/label-me-y-true-test.npy')\n",
    "    \n",
    "    ds['X_train'] = X_train\n",
    "    ds['y_train'] = y_train\n",
    "    ds['y_train_true'] = y_train_true\n",
    "    ds['X_valid'] = X_valid\n",
    "    ds['y_valid_true'] = y_valid_true\n",
    "    ds['X_test'] = X_test\n",
    "    ds['y_test_true'] = y_test_true\n",
    "\n",
    "    return ds"
   ],
   "metadata": {
    "collapsed": false,
    "ExecuteTime": {
     "end_time": "2024-06-02T13:53:33.049881Z",
     "start_time": "2024-06-02T13:53:33.047095Z"
    }
   },
   "id": "bb91c3f0a96b6597"
  },
  {
   "cell_type": "code",
   "execution_count": 3,
   "outputs": [],
   "source": [
    "data_dir = f'./data/label-me'\n",
    "ds = load_data_set_label_me(data_dir)"
   ],
   "metadata": {
    "collapsed": false,
    "ExecuteTime": {
     "end_time": "2024-06-02T13:53:33.932863Z",
     "start_time": "2024-06-02T13:53:33.873283Z"
    }
   },
   "id": "9c9cc7cc1c0ddcb1"
  },
  {
   "cell_type": "code",
   "execution_count": 11,
   "outputs": [],
   "source": [
    "classes = np.unique(ds['y_train'])\n",
    "n_classes = len(classes)\n",
    "X_train = ds['X_train'].astype(np.float32)\n",
    "y_train = ds['y_train'].astype(np.float32)\n",
    "n_features = X_train.shape[1]\n",
    "n_annotators = y_train.shape[1]\n",
    "n_samples = X_train.shape[0]"
   ],
   "metadata": {
    "collapsed": false,
    "ExecuteTime": {
     "end_time": "2024-06-02T13:55:22.450713Z",
     "start_time": "2024-06-02T13:55:22.412051Z"
    }
   },
   "id": "5b6c6e6a5c2b4627"
  },
  {
   "cell_type": "markdown",
   "source": [
    "# Define the base Module"
   ],
   "metadata": {
    "collapsed": false
   },
   "id": "e79a97c81b21322"
  },
  {
   "cell_type": "code",
   "execution_count": 5,
   "outputs": [],
   "source": [
    "class ClassifierModule(nn.Module):\n",
    "    def __init__(self, n_classes, n_features, dropout):\n",
    "        super(ClassifierModule, self).__init__()\n",
    "        n_hidden_neurons_1 = 256\n",
    "        n_hidden_neurons_2 = 128\n",
    "        self.embed_X_block = nn.Sequential(\n",
    "            nn.Linear(in_features=n_features, out_features=n_hidden_neurons_1),\n",
    "            nn.BatchNorm1d(num_features=n_hidden_neurons_1),\n",
    "            nn.ReLU(),\n",
    "            nn.Dropout(p=dropout),\n",
    "            nn.Linear(in_features=n_hidden_neurons_1, out_features=n_hidden_neurons_2),\n",
    "            nn.BatchNorm1d(num_features=n_hidden_neurons_2),\n",
    "            nn.ReLU(),\n",
    "            nn.Dropout(p=dropout),\n",
    "        )\n",
    "        self.mlp = nn.Linear(in_features=n_hidden_neurons_2, out_features=n_classes)\n",
    "\n",
    "    def forward(self, x):\n",
    "        embed_x = self.embed_X_block(x)\n",
    "        logit_class = self.mlp(embed_x)\n",
    "\n",
    "        return logit_class"
   ],
   "metadata": {
    "collapsed": false,
    "ExecuteTime": {
     "end_time": "2024-06-02T13:53:36.711444Z",
     "start_time": "2024-06-02T13:53:36.707280Z"
    }
   },
   "id": "a3ceed2be1e38cdd"
  },
  {
   "cell_type": "code",
   "execution_count": 6,
   "outputs": [],
   "source": [
    "hyper_parameter = {\n",
    "    'max_epochs': 50,\n",
    "    'batch_size': 64,\n",
    "    'lr': 0.01,\n",
    "    'optimizer__weight_decay': 0.0001,\n",
    "}\n",
    "lr_scheduler = LRScheduler(policy='CosineAnnealingLR', T_max=hyper_parameter['max_epochs'])"
   ],
   "metadata": {
    "collapsed": false,
    "ExecuteTime": {
     "end_time": "2024-06-02T13:53:37.645019Z",
     "start_time": "2024-06-02T13:53:37.641872Z"
    }
   },
   "id": "a69d2e2348975dc2"
  },
  {
   "cell_type": "markdown",
   "source": [
    "Majority Vote"
   ],
   "metadata": {
    "collapsed": false
   },
   "id": "cab93377183daaf8"
  },
  {
   "cell_type": "code",
   "execution_count": 7,
   "outputs": [],
   "source": [
    "net_mv = SkorchClassifier(\n",
    "                ClassifierModule,\n",
    "                module__n_classes=n_classes,\n",
    "                module__n_features=n_features,\n",
    "                module__dropout=0.5,\n",
    "                classes=classes,\n",
    "                missing_label=MISSING_LABEL,\n",
    "                cost_matrix=None,\n",
    "                random_state=1,\n",
    "                criterion=nn.CrossEntropyLoss(),\n",
    "                train_split=None,\n",
    "                verbose=False,\n",
    "                optimizer=torch.optim.RAdam,\n",
    "                device=device,\n",
    "                callbacks=[lr_scheduler],\n",
    "                **hyper_parameter\n",
    "            )"
   ],
   "metadata": {
    "collapsed": false,
    "ExecuteTime": {
     "end_time": "2024-06-02T13:53:39.123549Z",
     "start_time": "2024-06-02T13:53:39.117667Z"
    }
   },
   "id": "599245e122da9c35"
  },
  {
   "cell_type": "markdown",
   "source": [
    "# Multi Annotator with Active Learning"
   ],
   "metadata": {
    "collapsed": false
   },
   "id": "ce0709116372836d"
  },
  {
   "cell_type": "code",
   "execution_count": 17,
   "outputs": [],
   "source": [
    "al_n_cycles = 25\n",
    "al_batch_size = 2 * n_classes\n",
    "al_bs_annotator = 10"
   ],
   "metadata": {
    "collapsed": false,
    "ExecuteTime": {
     "end_time": "2024-06-02T13:58:04.549442Z",
     "start_time": "2024-06-02T13:58:04.546836Z"
    }
   },
   "id": "90abddcd51c3c761"
  },
  {
   "cell_type": "code",
   "execution_count": 18,
   "outputs": [],
   "source": [
    "sa_qs = RandomSampling(random_state=RANDOM_STATE, missing_label=MISSING_LABEL)\n",
    "ma_qs = SingleAnnotatorWrapper(sa_qs, random_state=RANDOM_STATE)"
   ],
   "metadata": {
    "collapsed": false,
    "ExecuteTime": {
     "end_time": "2024-06-02T13:58:04.872129Z",
     "start_time": "2024-06-02T13:58:04.870031Z"
    }
   },
   "id": "5a121307cae872c4"
  },
  {
   "cell_type": "code",
   "execution_count": 19,
   "outputs": [
    {
     "ename": "ValueError",
     "evalue": "Found array with 0 sample(s) (shape=(0,)) while a minimum of 1 is required.",
     "output_type": "error",
     "traceback": [
      "\u001B[0;31m---------------------------------------------------------------------------\u001B[0m",
      "\u001B[0;31mValueError\u001B[0m                                Traceback (most recent call last)",
      "Cell \u001B[0;32mIn[19], line 3\u001B[0m\n\u001B[1;32m      1\u001B[0m y \u001B[38;5;241m=\u001B[39m np\u001B[38;5;241m.\u001B[39mfull(shape\u001B[38;5;241m=\u001B[39m(n_samples, n_annotators), fill_value\u001B[38;5;241m=\u001B[39mMISSING_LABEL)\n\u001B[0;32m----> 3\u001B[0m query_idx \u001B[38;5;241m=\u001B[39m \u001B[43mma_qs\u001B[49m\u001B[38;5;241;43m.\u001B[39;49m\u001B[43mquery\u001B[49m\u001B[43m(\u001B[49m\u001B[43mX_train\u001B[49m\u001B[43m,\u001B[49m\u001B[43m \u001B[49m\u001B[43my\u001B[49m\u001B[43m,\u001B[49m\u001B[43m \u001B[49m\u001B[43mbatch_size\u001B[49m\u001B[38;5;241;43m=\u001B[39;49m\u001B[38;5;241;43m16\u001B[39;49m\u001B[43m,\u001B[49m\u001B[43m \u001B[49m\u001B[43mn_annotators_per_sample\u001B[49m\u001B[38;5;241;43m=\u001B[39;49m\u001B[43mn_annotators\u001B[49m\u001B[43m)\u001B[49m\n",
      "File \u001B[0;32m~/scikit-activeml/skactiveml/pool/multiannotator/_wrapper.py:328\u001B[0m, in \u001B[0;36mSingleAnnotatorWrapper.query\u001B[0;34m(self, X, y, candidates, annotators, batch_size, query_params_dict, n_annotators_per_sample, A_perf, return_utilities)\u001B[0m\n\u001B[1;32m    322\u001B[0m     \u001B[38;5;28;01mraise\u001B[39;00m \u001B[38;5;167;01mTypeError\u001B[39;00m(\n\u001B[1;32m    323\u001B[0m         \u001B[38;5;124mf\u001B[39m\u001B[38;5;124m\"\u001B[39m\u001B[38;5;124m`A_perf` is of type \u001B[39m\u001B[38;5;132;01m{\u001B[39;00m\u001B[38;5;28mtype\u001B[39m(A_perf)\u001B[38;5;132;01m}\u001B[39;00m\u001B[38;5;124m, but must be array like \u001B[39m\u001B[38;5;124m\"\u001B[39m\n\u001B[1;32m    324\u001B[0m         \u001B[38;5;124mf\u001B[39m\u001B[38;5;124m\"\u001B[39m\u001B[38;5;124mor of type None.\u001B[39m\u001B[38;5;124m\"\u001B[39m\n\u001B[1;32m    325\u001B[0m     )\n\u001B[1;32m    327\u001B[0m candidates_sq \u001B[38;5;241m=\u001B[39m mapping \u001B[38;5;28;01mif\u001B[39;00m mapping \u001B[38;5;129;01mis\u001B[39;00m \u001B[38;5;129;01mnot\u001B[39;00m \u001B[38;5;28;01mNone\u001B[39;00m \u001B[38;5;28;01melse\u001B[39;00m X_cand\n\u001B[0;32m--> 328\u001B[0m re_val \u001B[38;5;241m=\u001B[39m \u001B[38;5;28;43mself\u001B[39;49m\u001B[38;5;241;43m.\u001B[39;49m\u001B[43mstrategy\u001B[49m\u001B[38;5;241;43m.\u001B[39;49m\u001B[43mquery\u001B[49m\u001B[43m(\u001B[49m\n\u001B[1;32m    329\u001B[0m \u001B[43m    \u001B[49m\u001B[43mX\u001B[49m\u001B[38;5;241;43m=\u001B[39;49m\u001B[43mX\u001B[49m\u001B[43m,\u001B[49m\n\u001B[1;32m    330\u001B[0m \u001B[43m    \u001B[49m\u001B[43my\u001B[49m\u001B[38;5;241;43m=\u001B[39;49m\u001B[43my_sq\u001B[49m\u001B[43m,\u001B[49m\n\u001B[1;32m    331\u001B[0m \u001B[43m    \u001B[49m\u001B[43mcandidates\u001B[49m\u001B[38;5;241;43m=\u001B[39;49m\u001B[43mcandidates_sq\u001B[49m\u001B[43m,\u001B[49m\n\u001B[1;32m    332\u001B[0m \u001B[43m    \u001B[49m\u001B[38;5;241;43m*\u001B[39;49m\u001B[38;5;241;43m*\u001B[39;49m\u001B[43mquery_params_dict\u001B[49m\u001B[43m,\u001B[49m\n\u001B[1;32m    333\u001B[0m \u001B[43m    \u001B[49m\u001B[43mbatch_size\u001B[49m\u001B[38;5;241;43m=\u001B[39;49m\u001B[43mbatch_size_sq\u001B[49m\u001B[43m,\u001B[49m\n\u001B[1;32m    334\u001B[0m \u001B[43m    \u001B[49m\u001B[43mreturn_utilities\u001B[49m\u001B[38;5;241;43m=\u001B[39;49m\u001B[38;5;28;43;01mTrue\u001B[39;49;00m\u001B[43m,\u001B[49m\n\u001B[1;32m    335\u001B[0m \u001B[43m\u001B[49m\u001B[43m)\u001B[49m\n\u001B[1;32m    337\u001B[0m single_query_indices, w_utilities \u001B[38;5;241m=\u001B[39m re_val\n\u001B[1;32m    339\u001B[0m \u001B[38;5;28;01mif\u001B[39;00m mapping \u001B[38;5;129;01mis\u001B[39;00m \u001B[38;5;28;01mNone\u001B[39;00m:\n",
      "File \u001B[0;32m~/scikit-activeml/skactiveml/pool/_random_sampling.py:75\u001B[0m, in \u001B[0;36mRandomSampling.query\u001B[0;34m(self, X, y, candidates, batch_size, return_utilities)\u001B[0m\n\u001B[1;32m     25\u001B[0m \u001B[38;5;28;01mdef\u001B[39;00m \u001B[38;5;21mquery\u001B[39m(\n\u001B[1;32m     26\u001B[0m     \u001B[38;5;28mself\u001B[39m, X, y, candidates\u001B[38;5;241m=\u001B[39m\u001B[38;5;28;01mNone\u001B[39;00m, batch_size\u001B[38;5;241m=\u001B[39m\u001B[38;5;241m1\u001B[39m, return_utilities\u001B[38;5;241m=\u001B[39m\u001B[38;5;28;01mFalse\u001B[39;00m\n\u001B[1;32m     27\u001B[0m ):\n\u001B[1;32m     28\u001B[0m \u001B[38;5;250m    \u001B[39m\u001B[38;5;124;03m\"\"\"Determines for which candidate samples labels are to be queried.\u001B[39;00m\n\u001B[1;32m     29\u001B[0m \n\u001B[1;32m     30\u001B[0m \u001B[38;5;124;03m    Parameters\u001B[39;00m\n\u001B[0;32m   (...)\u001B[0m\n\u001B[1;32m     72\u001B[0m \u001B[38;5;124;03m        refers to samples in candidates.\u001B[39;00m\n\u001B[1;32m     73\u001B[0m \u001B[38;5;124;03m    \"\"\"\u001B[39;00m\n\u001B[0;32m---> 75\u001B[0m     X, y, candidates, batch_size, return_utilities \u001B[38;5;241m=\u001B[39m \u001B[38;5;28;43mself\u001B[39;49m\u001B[38;5;241;43m.\u001B[39;49m\u001B[43m_validate_data\u001B[49m\u001B[43m(\u001B[49m\n\u001B[1;32m     76\u001B[0m \u001B[43m        \u001B[49m\u001B[43mX\u001B[49m\u001B[43m,\u001B[49m\u001B[43m \u001B[49m\u001B[43my\u001B[49m\u001B[43m,\u001B[49m\u001B[43m \u001B[49m\u001B[43mcandidates\u001B[49m\u001B[43m,\u001B[49m\u001B[43m \u001B[49m\u001B[43mbatch_size\u001B[49m\u001B[43m,\u001B[49m\u001B[43m \u001B[49m\u001B[43mreturn_utilities\u001B[49m\u001B[43m,\u001B[49m\u001B[43m \u001B[49m\u001B[43mreset\u001B[49m\u001B[38;5;241;43m=\u001B[39;49m\u001B[38;5;28;43;01mTrue\u001B[39;49;00m\n\u001B[1;32m     77\u001B[0m \u001B[43m    \u001B[49m\u001B[43m)\u001B[49m\n\u001B[1;32m     79\u001B[0m     X_cand, mapping \u001B[38;5;241m=\u001B[39m \u001B[38;5;28mself\u001B[39m\u001B[38;5;241m.\u001B[39m_transform_candidates(candidates, X, y)\n\u001B[1;32m     81\u001B[0m     \u001B[38;5;28;01mif\u001B[39;00m mapping \u001B[38;5;129;01mis\u001B[39;00m \u001B[38;5;28;01mNone\u001B[39;00m:\n",
      "File \u001B[0;32m~/scikit-activeml/skactiveml/base.py:314\u001B[0m, in \u001B[0;36mSingleAnnotatorPoolQueryStrategy._validate_data\u001B[0;34m(self, X, y, candidates, batch_size, return_utilities, reset, check_X_dict)\u001B[0m\n\u001B[1;32m    251\u001B[0m \u001B[38;5;28;01mdef\u001B[39;00m \u001B[38;5;21m_validate_data\u001B[39m(\n\u001B[1;32m    252\u001B[0m     \u001B[38;5;28mself\u001B[39m,\n\u001B[1;32m    253\u001B[0m     X,\n\u001B[0;32m   (...)\u001B[0m\n\u001B[1;32m    259\u001B[0m     check_X_dict\u001B[38;5;241m=\u001B[39m\u001B[38;5;28;01mNone\u001B[39;00m,\n\u001B[1;32m    260\u001B[0m ):\n\u001B[1;32m    261\u001B[0m \u001B[38;5;250m    \u001B[39m\u001B[38;5;124;03m\"\"\"Validate input data, all attributes and set or check the\u001B[39;00m\n\u001B[1;32m    262\u001B[0m \u001B[38;5;124;03m    `n_features_in_` attribute.\u001B[39;00m\n\u001B[1;32m    263\u001B[0m \n\u001B[0;32m   (...)\u001B[0m\n\u001B[1;32m    305\u001B[0m \u001B[38;5;124;03m        Checked boolean value of `return_utilities`.\u001B[39;00m\n\u001B[1;32m    306\u001B[0m \u001B[38;5;124;03m    \"\"\"\u001B[39;00m\n\u001B[1;32m    308\u001B[0m     (\n\u001B[1;32m    309\u001B[0m         X,\n\u001B[1;32m    310\u001B[0m         y,\n\u001B[1;32m    311\u001B[0m         candidates,\n\u001B[1;32m    312\u001B[0m         batch_size,\n\u001B[1;32m    313\u001B[0m         return_utilities,\n\u001B[0;32m--> 314\u001B[0m     ) \u001B[38;5;241m=\u001B[39m \u001B[38;5;28;43msuper\u001B[39;49m\u001B[43m(\u001B[49m\u001B[43m)\u001B[49m\u001B[38;5;241;43m.\u001B[39;49m\u001B[43m_validate_data\u001B[49m\u001B[43m(\u001B[49m\n\u001B[1;32m    315\u001B[0m \u001B[43m        \u001B[49m\u001B[43mX\u001B[49m\u001B[43m,\u001B[49m\u001B[43m \u001B[49m\u001B[43my\u001B[49m\u001B[43m,\u001B[49m\u001B[43m \u001B[49m\u001B[43mcandidates\u001B[49m\u001B[43m,\u001B[49m\u001B[43m \u001B[49m\u001B[43mbatch_size\u001B[49m\u001B[43m,\u001B[49m\u001B[43m \u001B[49m\u001B[43mreturn_utilities\u001B[49m\u001B[43m,\u001B[49m\u001B[43m \u001B[49m\u001B[43mreset\u001B[49m\u001B[43m,\u001B[49m\u001B[43m \u001B[49m\u001B[43mcheck_X_dict\u001B[49m\n\u001B[1;32m    316\u001B[0m \u001B[43m    \u001B[49m\u001B[43m)\u001B[49m\n\u001B[1;32m    317\u001B[0m     y \u001B[38;5;241m=\u001B[39m column_or_1d(y, warn\u001B[38;5;241m=\u001B[39m\u001B[38;5;28;01mTrue\u001B[39;00m)\n\u001B[1;32m    319\u001B[0m     \u001B[38;5;28;01mif\u001B[39;00m candidates \u001B[38;5;129;01mis\u001B[39;00m \u001B[38;5;28;01mNone\u001B[39;00m:\n",
      "File \u001B[0;32m~/scikit-activeml/skactiveml/base.py:168\u001B[0m, in \u001B[0;36mPoolQueryStrategy._validate_data\u001B[0;34m(self, X, y, candidates, batch_size, return_utilities, reset, check_X_dict)\u001B[0m\n\u001B[1;32m    166\u001B[0m candidates \u001B[38;5;241m=\u001B[39m np\u001B[38;5;241m.\u001B[39marray(candidates)\n\u001B[1;32m    167\u001B[0m \u001B[38;5;28;01mif\u001B[39;00m candidates\u001B[38;5;241m.\u001B[39mndim \u001B[38;5;241m==\u001B[39m \u001B[38;5;241m1\u001B[39m:\n\u001B[0;32m--> 168\u001B[0m     candidates \u001B[38;5;241m=\u001B[39m \u001B[43mcheck_indices\u001B[49m\u001B[43m(\u001B[49m\u001B[43mcandidates\u001B[49m\u001B[43m,\u001B[49m\u001B[43m \u001B[49m\u001B[43my\u001B[49m\u001B[43m,\u001B[49m\u001B[43m \u001B[49m\u001B[43mdim\u001B[49m\u001B[38;5;241;43m=\u001B[39;49m\u001B[38;5;241;43m0\u001B[39;49m\u001B[43m)\u001B[49m\n\u001B[1;32m    169\u001B[0m \u001B[38;5;28;01melse\u001B[39;00m:\n\u001B[1;32m    170\u001B[0m     check_candidates_dict \u001B[38;5;241m=\u001B[39m deepcopy(check_X_dict)\n",
      "File \u001B[0;32m~/scikit-activeml/skactiveml/utils/_validation.py:532\u001B[0m, in \u001B[0;36mcheck_indices\u001B[0;34m(indices, A, dim, unique)\u001B[0m\n\u001B[1;32m    508\u001B[0m \u001B[38;5;28;01mdef\u001B[39;00m \u001B[38;5;21mcheck_indices\u001B[39m(indices, A, dim\u001B[38;5;241m=\u001B[39m\u001B[38;5;124m\"\u001B[39m\u001B[38;5;124madaptive\u001B[39m\u001B[38;5;124m\"\u001B[39m, unique\u001B[38;5;241m=\u001B[39m\u001B[38;5;28;01mTrue\u001B[39;00m):\n\u001B[1;32m    509\u001B[0m \u001B[38;5;250m    \u001B[39m\u001B[38;5;124;03m\"\"\"Check if indices fit to array.\u001B[39;00m\n\u001B[1;32m    510\u001B[0m \n\u001B[1;32m    511\u001B[0m \u001B[38;5;124;03m    Parameters\u001B[39;00m\n\u001B[0;32m   (...)\u001B[0m\n\u001B[1;32m    530\u001B[0m \u001B[38;5;124;03m        The validated indices.\u001B[39;00m\n\u001B[1;32m    531\u001B[0m \u001B[38;5;124;03m    \"\"\"\u001B[39;00m\n\u001B[0;32m--> 532\u001B[0m     indices \u001B[38;5;241m=\u001B[39m \u001B[43mcheck_array\u001B[49m\u001B[43m(\u001B[49m\u001B[43mindices\u001B[49m\u001B[43m,\u001B[49m\u001B[43m \u001B[49m\u001B[43mdtype\u001B[49m\u001B[38;5;241;43m=\u001B[39;49m\u001B[38;5;28;43mint\u001B[39;49m\u001B[43m,\u001B[49m\u001B[43m \u001B[49m\u001B[43mensure_2d\u001B[49m\u001B[38;5;241;43m=\u001B[39;49m\u001B[38;5;28;43;01mFalse\u001B[39;49;00m\u001B[43m)\u001B[49m\n\u001B[1;32m    533\u001B[0m     A \u001B[38;5;241m=\u001B[39m check_array(A, allow_nd\u001B[38;5;241m=\u001B[39m\u001B[38;5;28;01mTrue\u001B[39;00m, force_all_finite\u001B[38;5;241m=\u001B[39m\u001B[38;5;28;01mFalse\u001B[39;00m, ensure_2d\u001B[38;5;241m=\u001B[39m\u001B[38;5;28;01mFalse\u001B[39;00m)\n\u001B[1;32m    534\u001B[0m     \u001B[38;5;28;01mif\u001B[39;00m unique \u001B[38;5;241m==\u001B[39m \u001B[38;5;124m\"\u001B[39m\u001B[38;5;124mcheck_unique\u001B[39m\u001B[38;5;124m\"\u001B[39m:\n",
      "File \u001B[0;32m~/scikit-activeml/venv/lib/python3.11/site-packages/sklearn/utils/validation.py:969\u001B[0m, in \u001B[0;36mcheck_array\u001B[0;34m(array, accept_sparse, accept_large_sparse, dtype, order, copy, force_all_finite, ensure_2d, allow_nd, ensure_min_samples, ensure_min_features, estimator, input_name)\u001B[0m\n\u001B[1;32m    967\u001B[0m     n_samples \u001B[38;5;241m=\u001B[39m _num_samples(array)\n\u001B[1;32m    968\u001B[0m     \u001B[38;5;28;01mif\u001B[39;00m n_samples \u001B[38;5;241m<\u001B[39m ensure_min_samples:\n\u001B[0;32m--> 969\u001B[0m         \u001B[38;5;28;01mraise\u001B[39;00m \u001B[38;5;167;01mValueError\u001B[39;00m(\n\u001B[1;32m    970\u001B[0m             \u001B[38;5;124m\"\u001B[39m\u001B[38;5;124mFound array with \u001B[39m\u001B[38;5;132;01m%d\u001B[39;00m\u001B[38;5;124m sample(s) (shape=\u001B[39m\u001B[38;5;132;01m%s\u001B[39;00m\u001B[38;5;124m) while a\u001B[39m\u001B[38;5;124m\"\u001B[39m\n\u001B[1;32m    971\u001B[0m             \u001B[38;5;124m\"\u001B[39m\u001B[38;5;124m minimum of \u001B[39m\u001B[38;5;132;01m%d\u001B[39;00m\u001B[38;5;124m is required\u001B[39m\u001B[38;5;132;01m%s\u001B[39;00m\u001B[38;5;124m.\u001B[39m\u001B[38;5;124m\"\u001B[39m\n\u001B[1;32m    972\u001B[0m             \u001B[38;5;241m%\u001B[39m (n_samples, array\u001B[38;5;241m.\u001B[39mshape, ensure_min_samples, context)\n\u001B[1;32m    973\u001B[0m         )\n\u001B[1;32m    975\u001B[0m \u001B[38;5;28;01mif\u001B[39;00m ensure_min_features \u001B[38;5;241m>\u001B[39m \u001B[38;5;241m0\u001B[39m \u001B[38;5;129;01mand\u001B[39;00m array\u001B[38;5;241m.\u001B[39mndim \u001B[38;5;241m==\u001B[39m \u001B[38;5;241m2\u001B[39m:\n\u001B[1;32m    976\u001B[0m     n_features \u001B[38;5;241m=\u001B[39m array\u001B[38;5;241m.\u001B[39mshape[\u001B[38;5;241m1\u001B[39m]\n",
      "\u001B[0;31mValueError\u001B[0m: Found array with 0 sample(s) (shape=(0,)) while a minimum of 1 is required."
     ]
    }
   ],
   "source": [
    "y = np.full(shape=(n_samples, n_annotators), fill_value=MISSING_LABEL)\n",
    "\n",
    "query_idx = ma_qs.query(X_train, y, batch_size=16, n_annotators_per_sample=n_annotators)"
   ],
   "metadata": {
    "collapsed": false,
    "ExecuteTime": {
     "end_time": "2024-06-02T13:58:55.829398Z",
     "start_time": "2024-06-02T13:58:55.716974Z"
    }
   },
   "id": "22cdd8d509ba607d"
  },
  {
   "cell_type": "code",
   "execution_count": null,
   "outputs": [],
   "source": [],
   "metadata": {
    "collapsed": false
   },
   "id": "f03a1bff52b8a696"
  }
 ],
 "metadata": {
  "kernelspec": {
   "display_name": "Python 3",
   "language": "python",
   "name": "python3"
  },
  "language_info": {
   "codemirror_mode": {
    "name": "ipython",
    "version": 2
   },
   "file_extension": ".py",
   "mimetype": "text/x-python",
   "name": "python",
   "nbconvert_exporter": "python",
   "pygments_lexer": "ipython2",
   "version": "2.7.6"
  }
 },
 "nbformat": 4,
 "nbformat_minor": 5
}
