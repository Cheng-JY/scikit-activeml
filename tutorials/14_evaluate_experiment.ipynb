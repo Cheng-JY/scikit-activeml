{
 "cells": [
  {
   "cell_type": "code",
   "execution_count": 1,
   "id": "initial_id",
   "metadata": {
    "collapsed": true,
    "ExecuteTime": {
     "end_time": "2024-03-06T19:24:50.926932Z",
     "start_time": "2024-03-06T19:24:47.789801Z"
    }
   },
   "outputs": [],
   "source": [
    "import os\n",
    "import mlflow\n",
    "import matplotlib as mlp\n",
    "import matplotlib.pyplot as plt\n",
    "import matplotlib.colors as mcolors\n",
    "import warnings\n",
    "import numpy as np\n",
    "\n",
    "import pandas as pd\n",
    "mlp.rcParams[\"figure.facecolor\"] = \"white\"\n",
    "warnings.filterwarnings(\"ignore\")"
   ]
  },
  {
   "cell_type": "code",
   "execution_count": 2,
   "outputs": [],
   "source": [
    "dataset_name = \"cifar10\"\n",
    "graph_type = \"accuracy\"\n",
    "batch_size = 16"
   ],
   "metadata": {
    "collapsed": false,
    "ExecuteTime": {
     "end_time": "2024-03-06T19:25:21.503419Z",
     "start_time": "2024-03-06T19:25:21.498750Z"
    }
   },
   "id": "b7c51fabc07bfd32"
  },
  {
   "cell_type": "code",
   "execution_count": null,
   "outputs": [],
   "source": [
    "mlflow.set_tracking_uri(uri=\"file:///mnt/stud/home/jcheng/scikit-activeml/tutorials/mlflow_tracking\")\n",
    "\n",
    "experiment = mlflow.get_experiment_by_name(\"Evaluation-Active-Learning-Params\")\n",
    "df = mlflow.search_runs(experiment_ids=experiment.experiment_id, output_format=\"pandas\")\n",
    "\n",
    "df = df[['params.dataset', 'params.qs', 'params.batch_size', 'params.n_cycles', 'params.seed', 'artifact_uri']]\n",
    "\n",
    "df = df.loc[df['params.dataset'] == dataset_name]\n",
    "query_stragies = df['params.qs'].unique()\n",
    "colors = [\"b\", \"g\", \"r\", \"c\", \"m\", \"k\"]\n",
    "query_list = [5, 2, 4, 3, 0, 1]"
   ],
   "metadata": {
    "collapsed": false
   },
   "id": "c897a53db0298e8"
  },
  {
   "cell_type": "code",
   "execution_count": null,
   "outputs": [],
   "source": [
    "fig, ax = plt.subplots()\n",
    "artists = []\n",
    "\n",
    "for idx, qs_name in enumerate(query_stragies):\n",
    "    if idx not in []:\n",
    "        continue\n",
    "    print(qs_name)\n",
    "    print(idx)\n",
    "    print(colors[idx])\n",
    "    color = colors[idx]\n",
    "    df_qs = df.loc[df['params.qs'] == qs_name]\n",
    "    r = []\n",
    "    for idx, row in df_qs.iterrows():\n",
    "        artifact = os.path.join(row.artifact_uri, 'result.csv')\n",
    "        artifact = artifact.split(\"file://\")[1]\n",
    "        print(artifact)\n",
    "        print(os.path.exists(artifact))\n",
    "        if os.path.exists(artifact):\n",
    "            result_qs = pd.read_csv(artifact, index_col=0)\n",
    "            r.append(result_qs)\n",
    "    results = pd.concat(r)\n",
    "    result = results.groupby(['step'])[graph_type].agg(['mean', 'std']).set_axis(['mean', 'std'], axis=1)\n",
    "    result_mean = result['mean'].to_numpy()\n",
    "    result_std = result['std'].to_numpy()\n",
    "    plt.errorbar(np.arange(16, (len(result_mean)+1)*16, 16), result_mean, result_std,\n",
    "                label=f\"({np.mean(result_mean):.4f}) {qs_name}\", alpha=0.3, color=color)"
   ],
   "metadata": {
    "collapsed": false
   },
   "id": "9de487b8a1304f85"
  },
  {
   "cell_type": "code",
   "execution_count": null,
   "outputs": [],
   "source": [
    "plt.axis([0,500,0,1])\n",
    "plt.legend(bbox_to_anchor =(0.5,-0.35), loc='lower center', ncol=3)\n",
    "plt.tight_layout()\n",
    "plt.xlabel('# Labels queried')\n",
    "if graph_type == \"time\":\n",
    "    plt.yscale(\"log\")\n",
    "    plt.ylabel(\"Time [s]\")\n",
    "else:\n",
    "    plt.ylabel(\"Accuracy\")\n",
    "# output_path = f'{dataset_name}_{graph_type}.pdf'\n",
    "plt.title(dataset_name)\n",
    "output_path = f'/mnt/stud/home/jcheng/scikit-activeml/tutorials/result_param/{dataset_name}_{graph_type}_{number}.pdf'\n",
    "plt.savefig(output_path, bbox_inches=\"tight\")"
   ],
   "metadata": {
    "collapsed": false
   },
   "id": "268febda36ff7e8a"
  }
 ],
 "metadata": {
  "kernelspec": {
   "display_name": "Python 3",
   "language": "python",
   "name": "python3"
  },
  "language_info": {
   "codemirror_mode": {
    "name": "ipython",
    "version": 2
   },
   "file_extension": ".py",
   "mimetype": "text/x-python",
   "name": "python",
   "nbconvert_exporter": "python",
   "pygments_lexer": "ipython2",
   "version": "2.7.6"
  }
 },
 "nbformat": 4,
 "nbformat_minor": 5
}
