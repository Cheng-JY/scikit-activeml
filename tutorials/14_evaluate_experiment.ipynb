{
 "cells": [
  {
   "cell_type": "code",
   "execution_count": 1,
   "id": "82681422-e97b-423d-9ba0-b802ef63ec97",
   "metadata": {},
   "outputs": [],
   "source": [
    "import os\n",
    "import mlflow\n",
    "import matplotlib.pyplot as plt\n",
    "import matplotlib.colors as mcolors\n",
    "import warnings\n",
    "import numpy as np\n",
    "import pandas as pd\n",
    "from matplotlib.animation import FuncAnimation\n",
    "\n",
    "# 设置Matplotlib的背景颜色为白色\n",
    "plt.rcParams[\"figure.facecolor\"] = \"white\"\n",
    "warnings.filterwarnings(\"ignore\")"
   ]
  },
  {
   "cell_type": "code",
   "execution_count": 2,
   "id": "823a5ae2-8681-46d3-8f4a-9efe982650c3",
   "metadata": {},
   "outputs": [],
   "source": [
    "dataset_name = \"cifar10\"\n",
    "graph_type = \"accuracy\"\n",
    "batch_size = 16"
   ]
  },
  {
   "cell_type": "code",
   "execution_count": 3,
   "id": "479649bb-91ac-4e0f-b4a4-47fb6b72ae36",
   "metadata": {},
   "outputs": [
    {
     "name": "stderr",
     "output_type": "stream",
     "text": [
      "WARNING:root:Malformed run '.ipynb_checkpoints'. Detailed error Yaml file '/mnt/stud/home/jcheng/scikit-activeml/tutorials/mlflow_tracking/291462985889780911/.ipynb_checkpoints/meta.yaml' does not exist.\n",
      "Traceback (most recent call last):\n",
      "  File \"/mnt/stud/home/jcheng/miniconda3/envs/scikit-activeml/lib/python3.10/site-packages/mlflow/store/tracking/file_store.py\", line 882, in _list_run_infos\n",
      "    run_info = self._get_run_info_from_dir(r_dir)\n",
      "  File \"/mnt/stud/home/jcheng/miniconda3/envs/scikit-activeml/lib/python3.10/site-packages/mlflow/store/tracking/file_store.py\", line 694, in _get_run_info_from_dir\n",
      "    meta = FileStore._read_yaml(run_dir, FileStore.META_DATA_FILE_NAME)\n",
      "  File \"/mnt/stud/home/jcheng/miniconda3/envs/scikit-activeml/lib/python3.10/site-packages/mlflow/store/tracking/file_store.py\", line 1303, in _read_yaml\n",
      "    return _read_helper(root, file_name, attempts_remaining=retries)\n",
      "  File \"/mnt/stud/home/jcheng/miniconda3/envs/scikit-activeml/lib/python3.10/site-packages/mlflow/store/tracking/file_store.py\", line 1296, in _read_helper\n",
      "    result = read_yaml(root, file_name)\n",
      "  File \"/mnt/stud/home/jcheng/miniconda3/envs/scikit-activeml/lib/python3.10/site-packages/mlflow/utils/file_utils.py\", line 303, in read_yaml\n",
      "    raise MissingConfigException(f\"Yaml file '{file_path}' does not exist.\")\n",
      "mlflow.exceptions.MissingConfigException: Yaml file '/mnt/stud/home/jcheng/scikit-activeml/tutorials/mlflow_tracking/291462985889780911/.ipynb_checkpoints/meta.yaml' does not exist.\n"
     ]
    }
   ],
   "source": [
    "mlflow.set_tracking_uri(uri=\"file:///mnt/stud/home/jcheng/scikit-activeml/tutorials/mlflow_tracking\")\n",
    "\n",
    "# 获取实验\n",
    "experiment = mlflow.get_experiment_by_name(\"Evaluation-Active-Learning-Params\")\n",
    "\n",
    "# 搜索实验运行结果\n",
    "df = mlflow.search_runs(experiment_ids=experiment.experiment_id, output_format=\"pandas\")\n",
    "\n",
    "# 选择特定数据集的数据\n",
    "df = df.loc[df['params.dataset'] == dataset_name]"
   ]
  },
  {
   "cell_type": "code",
   "execution_count": 4,
   "id": "12cea140-f6f4-4efa-ab68-85779a9581c9",
   "metadata": {},
   "outputs": [],
   "source": [
    "query_strategies = df['params.qs'].unique()\n",
    "colors = [\"b\", \"g\", \"r\", \"c\", \"m\", \"k\"]\n",
    "query_list = [5, 2, 4, 3, 0, 1]\n",
    "query_list_time = [5, 4, 2, 0, 3, 1]"
   ]
  },
  {
   "cell_type": "code",
   "execution_count": 5,
   "id": "3a1923ed-76c0-41c2-bd44-2c9703e911bb",
   "metadata": {},
   "outputs": [
    {
     "name": "stderr",
     "output_type": "stream",
     "text": [
      "WARNING:matplotlib.animation:MovieWriter imagemagick unavailable; using Pillow instead.\n",
      "WARNING:matplotlib.legend:No artists with labels found to put in legend.  Note that artists whose label start with an underscore are ignored when legend() is called with no argument.\n",
      "WARNING:matplotlib.legend:No artists with labels found to put in legend.  Note that artists whose label start with an underscore are ignored when legend() is called with no argument.\n"
     ]
    }
   ],
   "source": [
    "def generate_gif(graph_type):\n",
    "    \n",
    "    # 创建图形\n",
    "    fig, ax = plt.subplots(figsize=(8, 6))\n",
    "\n",
    "    def update(frame):\n",
    "        ax.clear()\n",
    "        for idx in range(frame):\n",
    "            idx = query_list_time[idx]\n",
    "            qs_name = query_strategies[idx]\n",
    "            color = colors[idx]\n",
    "            df_qs = df.loc[df['params.qs'] == qs_name]\n",
    "            r = []\n",
    "            for idx, row in df_qs.iterrows():\n",
    "                artifact = os.path.join(row.artifact_uri, 'result.csv')\n",
    "                artifact = artifact.split(\"file://\")[1]\n",
    "                if os.path.exists(artifact):\n",
    "                    result_qs = pd.read_csv(artifact, index_col=0)\n",
    "                    r.append(result_qs)\n",
    "            results = pd.concat(r)\n",
    "            result = results.groupby(['step'])[graph_type].agg(['mean', 'std']).set_axis(['mean', 'std'], axis=1)\n",
    "            result_mean = result['mean'].to_numpy()\n",
    "            result_std = result['std'].to_numpy()\n",
    "            ax.errorbar(np.arange(16, (len(result_mean)+1)*16, 16), result_mean, result_std,\n",
    "                        label=f\"({np.mean(result_mean):.4f}) {qs_name}\", alpha=0.3, color=color)\n",
    "        \n",
    "        ax.legend(bbox_to_anchor=(0.5, -0.35), loc='lower center', ncol=3)\n",
    "        ax.set_xlabel('# Labels queried')\n",
    "        if graph_type == \"time\":\n",
    "            plt.yscale(\"log\")\n",
    "            plt.ylabel(\"Time [s]\")\n",
    "            ax.set_ylim(0, 1000)\n",
    "        else:\n",
    "            plt.ylabel(\"Accuracy\")\n",
    "            ax.set_ylim(0, 1)\n",
    "        ax.set_title(dataset_name)\n",
    "        ax.set_xlim(0, 500)\n",
    "        \n",
    "    \n",
    "    # 生成动画\n",
    "    anim = FuncAnimation(fig, update, frames=range(7), interval=1000)\n",
    "    \n",
    "    # 保存动画为GIF\n",
    "    output_path = f'{dataset_name}_{graph_type}.gif'\n",
    "    anim.save(output_path, writer='imagemagick')\n",
    "    \n",
    "    plt.close()\n",
    "\n",
    "# 调用函数生成GIF\n",
    "generate_gif(graph_type)"
   ]
  },
  {
   "cell_type": "code",
   "execution_count": null,
   "id": "e5abda58-1b2d-414a-8069-b2052e5ec097",
   "metadata": {},
   "outputs": [],
   "source": []
  }
 ],
 "metadata": {
  "kernelspec": {
   "display_name": "Python 3 (ipykernel)",
   "language": "python",
   "name": "python3"
  },
  "language_info": {
   "codemirror_mode": {
    "name": "ipython",
    "version": 3
   },
   "file_extension": ".py",
   "mimetype": "text/x-python",
   "name": "python",
   "nbconvert_exporter": "python",
   "pygments_lexer": "ipython3",
   "version": "3.10.13"
  }
 },
 "nbformat": 4,
 "nbformat_minor": 5
}
